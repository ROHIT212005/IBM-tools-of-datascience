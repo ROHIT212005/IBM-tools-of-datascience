{
 "cells": [
  {
   "cell_type": "markdown",
   "id": "2096d13d",
   "metadata": {},
   "source": [
    "# Data Science Tools and Ecosystem"
   ]
  },
  {
   "cell_type": "markdown",
   "id": "b0efa09e",
   "metadata": {},
   "source": [
    "## Introduction\n",
    "\n",
    "In this notebook, Data Science Tools and Ecosystem are summarized.\n",
    "\n"
   ]
  },
  {
   "cell_type": "markdown",
   "id": "5bbe3c62",
   "metadata": {},
   "source": [
    "## Data Science Languages\n",
    "some of the popular languages that Data Scientists use are:\n",
    "- Python\n",
    "- R\n",
    "- SQL\n",
    "- Java\n",
    "- Scala"
   ]
  },
  {
   "cell_type": "markdown",
   "id": "766a5cb2",
   "metadata": {},
   "source": [
    "## Data Science Libraries\n",
    "Some of the commonly used libraries used by Data Scientists include:\n",
    "- Pandas\n",
    "- NumPy\n",
    "- Matplotlib\n",
    "- Seaborn\n",
    "- Scikit-learn\n",
    "- TensorFlow\n",
    "- PyTorch"
   ]
  },
  {
   "cell_type": "markdown",
   "id": "9b1faabe",
   "metadata": {},
   "source": [
    "## Data Science Tools\n",
    "| Tool           | Description                                |\n",
    "|----------------|--------------------------------------------|\n",
    "| Jupyter Notebook | An interactive web-based computing environment. |\n",
    "| GitHub          | A platform for version control and collaboration. |\n",
    "| Visual Studio Code | A code editor for programming.               |\n",
    "| Anaconda        | A Python distribution for scientific computing. |"
   ]
  },
  {
   "cell_type": "markdown",
   "id": "7a7ece28",
   "metadata": {},
   "source": [
    "## Arithmetic Expression Examples\n",
    "Below are a few examples of evaluating arithmetic expressions in Python"
   ]
  },
  {
   "cell_type": "code",
   "execution_count": 7,
   "id": "09f2ff7c",
   "metadata": {},
   "outputs": [
    {
     "name": "stdout",
     "output_type": "stream",
     "text": [
      " 17\n"
     ]
    }
   ],
   "source": [
    "# Multiplying numbers\n",
    "result_multiply = (3*4)+5\n",
    "#This a simple arithmetic expression to mutiply then add integers\n",
    "print(f' {result_multiply}')\n"
   ]
  },
  {
   "cell_type": "code",
   "execution_count": 9,
   "id": "b5d329ec",
   "metadata": {},
   "outputs": [
    {
     "name": "stdout",
     "output_type": "stream",
     "text": [
      "200 minutes is equal to 3.3333333333333335 hours\n"
     ]
    }
   ],
   "source": [
    "# Convert minutes to hours\n",
    "#This will convert 200 minutes to hours by diving by 60\n",
    "def minutes_to_hours(minutes):\n",
    "    return minutes / 60\n",
    "\n",
    "minutes = 200\n",
    "hours = minutes_to_hours(minutes)\n",
    "print(f'{minutes} minutes is equal to {hours} hours')"
   ]
  },
  {
   "cell_type": "markdown",
   "id": "33125c79",
   "metadata": {},
   "source": [
    "## Objectives\n",
    "\n",
    "- List key data science languages\n",
    "- Identify common libraries used in data science\n",
    "- Showcase arithmetic expressions\n",
    "- Provide examples using Python code\n",
    "- Demonstrate Markdown and code usage in Jupyter Notebook\n"
   ]
  },
  {
   "cell_type": "markdown",
   "id": "9f425bd3",
   "metadata": {},
   "source": [
    "## Author\n",
    "This notebook was created by R.Rohit."
   ]
  }
 ],
 "metadata": {
  "kernelspec": {
   "display_name": ".conda",
   "language": "python",
   "name": "python3"
  },
  "language_info": {
   "codemirror_mode": {
    "name": "ipython",
    "version": 3
   },
   "file_extension": ".py",
   "mimetype": "text/x-python",
   "name": "python",
   "nbconvert_exporter": "python",
   "pygments_lexer": "ipython3",
   "version": "3.12.9"
  }
 },
 "nbformat": 4,
 "nbformat_minor": 5
}
